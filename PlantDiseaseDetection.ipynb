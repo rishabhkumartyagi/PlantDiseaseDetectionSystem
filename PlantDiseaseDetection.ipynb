{
  "cells": [
    {
      "metadata": {
        "_uuid": "8f2839f25d086af736a60e9eeb907d3b93b6e0e5",
        "_cell_guid": "b1076dfc-b9ad-4769-8c92-a6c4dae69d19",
        "trusted": true
      },
      "cell_type": "code",
      "source": "# This Python 3 environment comes with many helpful analytics libraries installed\n# It is defined by the kaggle/python docker image: https://github.com/kaggle/docker-python\n# For example, here's several helpful packages to load in \n\nimport numpy as np # linear algebra\nimport pandas as pd # data processing, CSV file I/O (e.g. pd.read_csv)\n\n# Input data files are available in the \"../input/\" directory.\n# For example, running this (by clicking run or pressing Shift+Enter) will list the files in the input directory\n\nimport os\nprint(os.listdir(\"../input\"))\n\n# Any results you write to the current directory are saved as output.",
      "execution_count": 1,
      "outputs": [
        {
          "output_type": "stream",
          "text": "['test', 'new plant diseases dataset(augmented)']\n",
          "name": "stdout"
        }
      ]
    },
    {
      "metadata": {
        "trusted": true
      },
      "cell_type": "code",
      "source": "!ls ../input/new\\ plant\\ diseases\\ dataset\\(augmented\\)/New\\ Plant\\ Diseases\\ Dataset\\(Augmented\\)/train/",
      "execution_count": 2,
      "outputs": [
        {
          "output_type": "stream",
          "text": "Apple___Apple_scab\r\nApple___Black_rot\r\nApple___Cedar_apple_rust\r\nApple___healthy\r\nBlueberry___healthy\r\nCherry_(including_sour)___Powdery_mildew\r\nCherry_(including_sour)___healthy\r\nCorn_(maize)___Cercospora_leaf_spot Gray_leaf_spot\r\nCorn_(maize)___Common_rust_\r\nCorn_(maize)___Northern_Leaf_Blight\r\nCorn_(maize)___healthy\r\nGrape___Black_rot\r\nGrape___Esca_(Black_Measles)\r\nGrape___Leaf_blight_(Isariopsis_Leaf_Spot)\r\nGrape___healthy\r\nOrange___Haunglongbing_(Citrus_greening)\r\nPeach___Bacterial_spot\r\nPeach___healthy\r\nPepper,_bell___Bacterial_spot\r\nPepper,_bell___healthy\r\nPotato___Early_blight\r\nPotato___Late_blight\r\nPotato___healthy\r\nRaspberry___healthy\r\nSoybean___healthy\r\nSquash___Powdery_mildew\r\nStrawberry___Leaf_scorch\r\nStrawberry___healthy\r\nTomato___Bacterial_spot\r\nTomato___Early_blight\r\nTomato___Late_blight\r\nTomato___Leaf_Mold\r\nTomato___Septoria_leaf_spot\r\nTomato___Spider_mites Two-spotted_spider_mite\r\nTomato___Target_Spot\r\nTomato___Tomato_Yellow_Leaf_Curl_Virus\r\nTomato___Tomato_mosaic_virus\r\nTomato___healthy\r\n",
          "name": "stdout"
        }
      ]
    },
    {
      "metadata": {
        "trusted": true
      },
      "cell_type": "code",
      "source": "!mkdir trainPlant",
      "execution_count": 3,
      "outputs": []
    },
    {
      "metadata": {
        "trusted": true
      },
      "cell_type": "code",
      "source": "!cp -r ../input/new\\ plant\\ diseases\\ dataset\\(augmented\\)/New\\ Plant\\ Diseases\\ Dataset\\(Augmented\\)/train/Apple* trainPlant/",
      "execution_count": 4,
      "outputs": []
    },
    {
      "metadata": {
        "trusted": true
      },
      "cell_type": "code",
      "source": "!cp -r ../input/new\\ plant\\ diseases\\ dataset\\(augmented\\)/New\\ Plant\\ Diseases\\ Dataset\\(Augmented\\)/train/Corn* trainPlant/",
      "execution_count": 5,
      "outputs": []
    },
    {
      "metadata": {
        "trusted": true
      },
      "cell_type": "code",
      "source": "!cp -r ../input/new\\ plant\\ diseases\\ dataset\\(augmented\\)/New\\ Plant\\ Diseases\\ Dataset\\(Augmented\\)/train/Grape* trainPlant/",
      "execution_count": 7,
      "outputs": []
    },
    {
      "metadata": {
        "trusted": true
      },
      "cell_type": "code",
      "source": "!cp -r ../input/new\\ plant\\ diseases\\ dataset\\(augmented\\)/New\\ Plant\\ Diseases\\ Dataset\\(Augmented\\)/train/Potato* trainPlant/",
      "execution_count": 8,
      "outputs": []
    },
    {
      "metadata": {
        "trusted": true
      },
      "cell_type": "code",
      "source": "!cp -r ../input/new\\ plant\\ diseases\\ dataset\\(augmented\\)/New\\ Plant\\ Diseases\\ Dataset\\(Augmented\\)/train/Tomato* trainPlant/",
      "execution_count": 9,
      "outputs": []
    },
    {
      "metadata": {
        "trusted": true
      },
      "cell_type": "code",
      "source": "!ls trainPlant/",
      "execution_count": 10,
      "outputs": [
        {
          "output_type": "stream",
          "text": "Apple___Apple_scab\r\nApple___Black_rot\r\nApple___Cedar_apple_rust\r\nApple___healthy\r\nCorn_(maize)___Cercospora_leaf_spot Gray_leaf_spot\r\nCorn_(maize)___Common_rust_\r\nCorn_(maize)___Northern_Leaf_Blight\r\nCorn_(maize)___healthy\r\nGrape___Black_rot\r\nGrape___Esca_(Black_Measles)\r\nGrape___Leaf_blight_(Isariopsis_Leaf_Spot)\r\nGrape___healthy\r\nPotato___Early_blight\r\nPotato___Late_blight\r\nPotato___healthy\r\nTomato___Bacterial_spot\r\nTomato___Early_blight\r\nTomato___Late_blight\r\nTomato___Leaf_Mold\r\nTomato___Septoria_leaf_spot\r\nTomato___Spider_mites Two-spotted_spider_mite\r\nTomato___Target_Spot\r\nTomato___Tomato_Yellow_Leaf_Curl_Virus\r\nTomato___Tomato_mosaic_virus\r\nTomato___healthy\r\n",
          "name": "stdout"
        }
      ]
    },
    {
      "metadata": {
        "trusted": true
      },
      "cell_type": "code",
      "source": "!ls ../input/new\\ plant\\ diseases\\ dataset\\(augmented\\)/New\\ Plant\\ Diseases\\ Dataset\\(Augmented\\)/train/Corn_\\(maize\\)___healthy/| wc -l",
      "execution_count": 11,
      "outputs": [
        {
          "output_type": "stream",
          "text": "1859\r\n",
          "name": "stdout"
        }
      ]
    },
    {
      "metadata": {
        "trusted": true,
        "_uuid": "c9bcf950bc26ad4b7880b8299412d80c994a3433"
      },
      "cell_type": "code",
      "source": "import sys\nimport os\nimport numpy as np\nimport pandas as pd\nfrom keras.preprocessing.image import ImageDataGenerator\nfrom keras.optimizers import Adam, RMSprop\nfrom keras.models import Sequential\nfrom keras.layers import Dropout, Flatten, Dense, Activation, Conv2D, MaxPool2D, BatchNormalization\nfrom keras.layers.convolutional import Convolution2D, MaxPooling2D\nfrom keras.callbacks import LearningRateScheduler",
      "execution_count": 12,
      "outputs": [
        {
          "output_type": "stream",
          "text": "Using TensorFlow backend.\n",
          "name": "stderr"
        }
      ]
    },
    {
      "metadata": {
        "trusted": true,
        "_uuid": "8d23ee30b700de8c8a960c7dea1ea18462e55bbf"
      },
      "cell_type": "code",
      "source": "\n\ninput_shape = 128\nbatch_size = 32\nsamples_per_epoch = 800\nvalidation_steps = 300\nnb_filters1 = 32\nnb_filters2 = 64\nconv1_size = 3\nconv2_size = 3\npool_size = 2\nclasses_num = 3\nlr = 0.0004\n\n\nmodel = Sequential()\n\nmodel.add(Conv2D(filters = 32, kernel_size = (5,5),padding = 'Same', \n                 activation ='relu', input_shape = (64,64,3)))\nmodel.add(Conv2D(filters = 64, kernel_size = (5,5),padding = 'Same', \n                 activation ='relu'))\nmodel.add(Conv2D(filters = 32, kernel_size = (5,5),padding = 'Same', \n                 activation ='relu'))\n\nmodel.add(MaxPool2D(pool_size=(2,2)))\nmodel.add(Dropout(0.25))\n\n\nmodel.add(Conv2D(filters = 64, kernel_size = (3,3),padding = 'Same', \n                 activation ='relu'))\nmodel.add(Conv2D(filters = 64, kernel_size = (3,3),padding = 'Same', \n                 activation ='relu'))\nmodel.add(MaxPool2D(pool_size=(2,2), strides=(2,2)))\nmodel.add(Dropout(0.25))\n\n\nmodel.add(Flatten())\n\nmodel.add(Dense(256, activation = \"relu\"))\nmodel.add(Dropout(0.5))\nmodel.add(Dense(64, activation = \"relu\"))\nmodel.add(Dropout(0.5))\nmodel.add(Dense(25, activation = \"softmax\"))\n\noptimizer = RMSprop(lr=0.001, rho=0.9, epsilon=1e-08, decay=0.0)\n\nmodel.compile(optimizer = optimizer , loss = \"categorical_crossentropy\", metrics=[\"accuracy\"])\n\n",
      "execution_count": 13,
      "outputs": [
        {
          "output_type": "stream",
          "text": "WARNING:tensorflow:From /opt/conda/lib/python3.6/site-packages/tensorflow/python/framework/op_def_library.py:263: colocate_with (from tensorflow.python.framework.ops) is deprecated and will be removed in a future version.\nInstructions for updating:\nColocations handled automatically by placer.\nWARNING:tensorflow:From /opt/conda/lib/python3.6/site-packages/keras/backend/tensorflow_backend.py:3445: calling dropout (from tensorflow.python.ops.nn_ops) with keep_prob is deprecated and will be removed in a future version.\nInstructions for updating:\nPlease use `rate` instead of `keep_prob`. Rate should be set to `rate = 1 - keep_prob`.\n",
          "name": "stdout"
        }
      ]
    },
    {
      "metadata": {
        "trusted": true
      },
      "cell_type": "code",
      "source": "model.summary()",
      "execution_count": 15,
      "outputs": [
        {
          "output_type": "stream",
          "text": "_________________________________________________________________\nLayer (type)                 Output Shape              Param #   \n=================================================================\nconv2d_1 (Conv2D)            (None, 64, 64, 32)        2432      \n_________________________________________________________________\nconv2d_2 (Conv2D)            (None, 64, 64, 64)        51264     \n_________________________________________________________________\nconv2d_3 (Conv2D)            (None, 64, 64, 32)        51232     \n_________________________________________________________________\nmax_pooling2d_1 (MaxPooling2 (None, 32, 32, 32)        0         \n_________________________________________________________________\ndropout_1 (Dropout)          (None, 32, 32, 32)        0         \n_________________________________________________________________\nconv2d_4 (Conv2D)            (None, 32, 32, 64)        18496     \n_________________________________________________________________\nconv2d_5 (Conv2D)            (None, 32, 32, 64)        36928     \n_________________________________________________________________\nmax_pooling2d_2 (MaxPooling2 (None, 16, 16, 64)        0         \n_________________________________________________________________\ndropout_2 (Dropout)          (None, 16, 16, 64)        0         \n_________________________________________________________________\nflatten_1 (Flatten)          (None, 16384)             0         \n_________________________________________________________________\ndense_1 (Dense)              (None, 256)               4194560   \n_________________________________________________________________\ndropout_3 (Dropout)          (None, 256)               0         \n_________________________________________________________________\ndense_2 (Dense)              (None, 64)                16448     \n_________________________________________________________________\ndropout_4 (Dropout)          (None, 64)                0         \n_________________________________________________________________\ndense_3 (Dense)              (None, 25)                1625      \n=================================================================\nTotal params: 4,372,985\nTrainable params: 4,372,985\nNon-trainable params: 0\n_________________________________________________________________\n",
          "name": "stdout"
        }
      ]
    },
    {
      "metadata": {
        "trusted": true,
        "_uuid": "b55d3816068ae396897881acf51dd98eaaaefc80"
      },
      "cell_type": "code",
      "source": "train_datagen = ImageDataGenerator(\nrescale=1./255,\nshear_range=0.2,\nrotation_range=60, \nwidth_shift_range=0.1,\nheight_shift_range=0.1,\nzoom_range=0.2,\nhorizontal_flip=True,\n\nvalidation_split=0.2\n)",
      "execution_count": 16,
      "outputs": []
    },
    {
      "metadata": {
        "trusted": true
      },
      "cell_type": "code",
      "source": "test_datagen = ImageDataGenerator(rescale=1./255)\n\ntraining_set = train_datagen.flow_from_directory('trainPlant/',\ncolor_mode='rgb',                                                 \ntarget_size=(64,64),\nbatch_size=32,\nshuffle=True,\nseed=1234,\nclass_mode='categorical',\n                                                subset='training')\n\nvalidation_set = train_datagen.flow_from_directory('trainPlant/',\ncolor_mode='rgb',                                                 \ntarget_size=(64,64),\nbatch_size=32,\nshuffle=True,\nseed=1234,\nclass_mode='categorical',\n                                                subset='validation')\n",
      "execution_count": 17,
      "outputs": [
        {
          "output_type": "stream",
          "text": "Found 37094 images belonging to 25 classes.\nFound 9262 images belonging to 25 classes.\n",
          "name": "stdout"
        }
      ]
    },
    {
      "metadata": {
        "trusted": true
      },
      "cell_type": "code",
      "source": "model.fit_generator(generator=training_set,\n                    steps_per_epoch=400,\n                    validation_data=validation_set,\n                    validation_steps=40,\n                    epochs=15)",
      "execution_count": null,
      "outputs": []
    },
    {
      "metadata": {
        "trusted": true,
        "_uuid": "8cd81ffd2d9190afd168b64290a0196617662dc5"
      },
      "cell_type": "code",
      "source": "# import the modules we'll need\nfrom IPython.display import HTML\nimport pandas as pd\nimport numpy as np\nimport base64\n\n# function that takes in a dataframe and creates a text link to  \n# download it (will only work for files < 2MB or so)\ndef create_download_link(, title = \"Download CSV file\", filename = \"res1.h5\"):  \n    html = '<a download=\"{filename}\" href=\"my_model.h5\" target=\"_blank\">{title}</a>'\n    html = html.format(title=title,filename=filename)\n    return HTML(html)\n\n# create a link to download the dataframe\ncreate_download_link()",
      "execution_count": null,
      "outputs": []
    },
    {
      "metadata": {
        "trusted": true,
        "_uuid": "73fca05c6f4feef291600a9a44d13046429daec4"
      },
      "cell_type": "code",
      "source": "from keras.models import load_model\n\n# Creates a HDF5 file 'my_model.h5'\nmodel.save('my_model.h5')",
      "execution_count": null,
      "outputs": []
    },
    {
      "metadata": {
        "trusted": true
      },
      "cell_type": "code",
      "source": "training_set.class_indices",
      "execution_count": null,
      "outputs": []
    }
  ],
  "metadata": {
    "kernelspec": {
      "name": "python3",
      "display_name": "Python 3",
      "language": "python"
    },
    "language_info": {
      "mimetype": "text/x-python",
      "nbconvert_exporter": "python",
      "name": "python",
      "pygments_lexer": "ipython3",
      "version": "3.5.4",
      "file_extension": ".py",
      "codemirror_mode": {
        "version": 3,
        "name": "ipython"
      }
    }
  },
  "nbformat": 4,
  "nbformat_minor": 1
}